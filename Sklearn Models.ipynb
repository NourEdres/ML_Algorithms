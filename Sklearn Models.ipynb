{
 "cells": [
  {
   "cell_type": "markdown",
   "metadata": {},
   "source": [
    "# Classification Area Type"
   ]
  },
  {
   "cell_type": "code",
   "execution_count": 9,
   "metadata": {},
   "outputs": [],
   "source": [
    "import pandas as pd\n",
    "from sklearn import metrics  # Import scikit-learn metrics module for accuracy calculation\n",
    "from sklearn import tree\n",
    "from sklearn.model_selection import GridSearchCV\n",
    "from sklearn.tree import DecisionTreeClassifier  # Import Decision Tree Classifier\n",
    "\n",
    "data = pd.read_csv(\"data-1.csv\", header=0)\n",
    "data[\"area_typeL\"]=(data[\"area_type\"]=='B')*1\n",
    "data=data.drop([\"area_type\",\"Unnamed: 0\"],axis='columns')"
   ]
  },
  {
   "cell_type": "code",
   "execution_count": 10,
   "metadata": {},
   "outputs": [],
   "source": [
    "X=data.iloc[:,:-1]\n",
    "Y=data.iloc[:,-1]"
   ]
  },
  {
   "cell_type": "code",
   "execution_count": 11,
   "metadata": {},
   "outputs": [],
   "source": [
    "X_test, X_train = X[10051:], X[:10051]\n",
    "y_test, y_train = Y[10051:], Y[:10051]"
   ]
  },
  {
   "cell_type": "markdown",
   "metadata": {},
   "source": [
    "## Decision Tree"
   ]
  },
  {
   "cell_type": "code",
   "execution_count": 12,
   "metadata": {},
   "outputs": [
    {
     "name": "stdout",
     "output_type": "stream",
     "text": [
      "DecisionTreeClassifier(max_depth=9, min_samples_split=5, random_state=50)\n",
      "Accuracy: 0.9144108280254777\n"
     ]
    }
   ],
   "source": [
    "# Create a dictionary of all the parameter options\n",
    "param_grid = {'max_depth': [2, 3, 4, 5, 6, 7, 8, 9, 10],\n",
    "              'min_samples_split': [2, 3, 4, 5, 6, 7, 8]\n",
    "              }\n",
    "\n",
    "# Create a grid search object\n",
    "gsDCT = GridSearchCV(DecisionTreeClassifier(random_state = 50), param_grid, cv=10, scoring='accuracy',n_jobs= -1)\n",
    "# Fit the grid search\n",
    "gsDCT.fit(X_train, y_train)\n",
    "gsDCT=gsDCT.best_estimator_\n",
    "print(gsDCT)\n",
    "y_pred = gsDCT.predict(X_test)\n",
    "print(\"Accuracy:\", metrics.accuracy_score(y_test, y_pred))"
   ]
  },
  {
   "cell_type": "markdown",
   "metadata": {},
   "source": [
    "## AdaBoost"
   ]
  },
  {
   "cell_type": "code",
   "execution_count": 13,
   "metadata": {},
   "outputs": [
    {
     "name": "stdout",
     "output_type": "stream",
     "text": [
      "AdaBoostClassifier(base_estimator=DecisionTreeClassifier(max_depth=1,\n",
      "                                                         random_state=50),\n",
      "                   n_estimators=200)\n",
      "Accuracy: 0.9080414012738853\n"
     ]
    }
   ],
   "source": [
    "from sklearn.tree import DecisionTreeClassifier\n",
    "from sklearn.ensemble import AdaBoostClassifier\n",
    "param_grid = {'n_estimators':[20,50,70,100,200]}\n",
    "DTC = DecisionTreeClassifier(random_state = 50,max_depth = 1)\n",
    "ABC = AdaBoostClassifier(base_estimator = DTC)\n",
    "# run grid search\n",
    "gsDCT = GridSearchCV(ABC, param_grid=param_grid,cv=10, scoring = 'accuracy',n_jobs= -1)\n",
    "gsDCT.fit(X_train, y_train)\n",
    "gsDCT=gsDCT.best_estimator_\n",
    "print(gsDCT)\n",
    "y_pred = gsDCT.predict(X_test)\n",
    "print(\"Accuracy:\", metrics.accuracy_score(y_test, y_pred))"
   ]
  },
  {
   "cell_type": "markdown",
   "metadata": {},
   "source": [
    "# Regression Price"
   ]
  },
  {
   "cell_type": "code",
   "execution_count": 14,
   "metadata": {},
   "outputs": [],
   "source": [
    "data1 = pd.read_csv(\"data-1.csv\", header=0)\n",
    "# data1[\"price in rupees\"]=data1[\"price in rupees\"]/data1[\"price in rupees\"].max()\n",
    "data1=data1.drop([\"Unnamed: 0\"],axis='columns')\n",
    "data1[\"area_type\"]=(data1[\"area_type\"]=='B')*1\n",
    "X=data1.iloc[:,:-1]\n",
    "Y=data1.iloc[:,-1]\n",
    "X_test, X_train = X[10051:], X[:10051]\n",
    "y_test, y_train = Y[10051:], Y[:10051]"
   ]
  },
  {
   "cell_type": "code",
   "execution_count": 15,
   "metadata": {},
   "outputs": [
    {
     "name": "stdout",
     "output_type": "stream",
     "text": [
      "DecisionTreeRegressor(max_depth=6, min_samples_split=4, random_state=50)\n",
      "MSE: 57647020122153.3\n"
     ]
    }
   ],
   "source": [
    "from sklearn.tree import DecisionTreeRegressor\n",
    "# Create a dictionary of all the parameter options\n",
    "param_grid = {'max_depth': [2, 3, 4, 5, 6, 7, 8, 9, 10],\n",
    "              'min_samples_split': [2, 3, 4, 5, 6, 7, 8]\n",
    "              }\n",
    "# Create a grid search object\n",
    "gsDCT = GridSearchCV(DecisionTreeRegressor(random_state = 50), param_grid, cv=10,n_jobs= -1)\n",
    "# Fit the grid search\n",
    "gsDCT.fit(X_train, y_train)\n",
    "gsDCT=gsDCT.best_estimator_\n",
    "print(gsDCT)\n",
    "y_pred = gsDCT.predict(X_test)\n",
    "print(\"MSE:\", metrics.mean_squared_error(y_test, y_pred))"
   ]
  }
 ],
 "metadata": {
  "kernelspec": {
   "display_name": "Python 3",
   "language": "python",
   "name": "python3"
  },
  "language_info": {
   "codemirror_mode": {
    "name": "ipython",
    "version": 3
   },
   "file_extension": ".py",
   "mimetype": "text/x-python",
   "name": "python",
   "nbconvert_exporter": "python",
   "pygments_lexer": "ipython3",
   "version": "3.8.5"
  }
 },
 "nbformat": 4,
 "nbformat_minor": 4
}
